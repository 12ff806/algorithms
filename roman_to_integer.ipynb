{
 "cells": [
  {
   "cell_type": "markdown",
   "metadata": {},
   "source": [
    "## 问题描述\n",
    "\n",
    "给定一个罗马数字, 将其转换为整数, 输入在1到3999之间."
   ]
  },
  {
   "cell_type": "markdown",
   "metadata": {},
   "source": [
    "## 实现"
   ]
  },
  {
   "cell_type": "code",
   "execution_count": 1,
   "metadata": {},
   "outputs": [
    {
     "data": {
      "text/plain": [
       "498"
      ]
     },
     "execution_count": 1,
     "metadata": {},
     "output_type": "execute_result"
    }
   ],
   "source": [
    "def roman_to_integer(s):\n",
    "    \"\"\"\n",
    "    input: s (str)\n",
    "    return: (int)\n",
    "    \"\"\"\n",
    "    roman = {\"M\": 1000, \"D\": 500, \"C\": 100, \"L\": 50, \"X\": 10, \"V\": 5, \"I\": 1}\n",
    "    r = 0\n",
    "    for i in range(len(s) - 1):\n",
    "        if roman[s[i]] < roman[s[i+1]]:\n",
    "            r -= roman[s[i]]\n",
    "        else:\n",
    "            r += roman[s[i]]\n",
    "    return r + roman[s[-1]]\n",
    "\n",
    "roman_to_integer(\"CDXCVIII\")"
   ]
  }
 ],
 "metadata": {
  "kernelspec": {
   "display_name": "Python 3",
   "language": "python",
   "name": "python3"
  },
  "language_info": {
   "codemirror_mode": {
    "name": "ipython",
    "version": 3
   },
   "file_extension": ".py",
   "mimetype": "text/x-python",
   "name": "python",
   "nbconvert_exporter": "python",
   "pygments_lexer": "ipython3",
   "version": "3.6.2"
  }
 },
 "nbformat": 4,
 "nbformat_minor": 2
}
