{
 "cells": [
  {
   "cell_type": "markdown",
   "metadata": {},
   "source": [
    "## 问题描述\n",
    "\n",
    "判断一个整数是否为回文数, 不要使用额外的内存"
   ]
  },
  {
   "cell_type": "markdown",
   "metadata": {},
   "source": [
    "## 实现"
   ]
  },
  {
   "cell_type": "code",
   "execution_count": 1,
   "metadata": {},
   "outputs": [
    {
     "data": {
      "text/plain": [
       "True"
      ]
     },
     "execution_count": 1,
     "metadata": {},
     "output_type": "execute_result"
    }
   ],
   "source": [
    "# 方法一\n",
    "def is_palindrome(x):\n",
    "    \"\"\"\n",
    "    :type x: int\n",
    "    :rtype: bool\n",
    "    \"\"\"\n",
    "    if x < 0:\n",
    "        return False\n",
    "    return x == int(str(x)[::-1])\n",
    "\n",
    "is_palindrome(123454321)"
   ]
  },
  {
   "cell_type": "code",
   "execution_count": 2,
   "metadata": {},
   "outputs": [
    {
     "data": {
      "text/plain": [
       "True"
      ]
     },
     "execution_count": 2,
     "metadata": {},
     "output_type": "execute_result"
    }
   ],
   "source": [
    "# 方法二\n",
    "def is_palindrome(x):\n",
    "    \"\"\"\n",
    "    :type x: int\n",
    "    :rtype: bool\n",
    "    \"\"\"\n",
    "    if x < 0:\n",
    "        return False\n",
    "    base = 1\n",
    "    while x / base >= 10:\n",
    "        base *= 10\n",
    "    while x:\n",
    "        left = x // base\n",
    "        right = x % 10\n",
    "        if left != right:\n",
    "            return False\n",
    "        x = (x % base) // 10\n",
    "        base = base / 100\n",
    "    return True    \n",
    "    \n",
    "is_palindrome(123454321)"
   ]
  }
 ],
 "metadata": {
  "kernelspec": {
   "display_name": "Python 3",
   "language": "python",
   "name": "python3"
  },
  "language_info": {
   "codemirror_mode": {
    "name": "ipython",
    "version": 3
   },
   "file_extension": ".py",
   "mimetype": "text/x-python",
   "name": "python",
   "nbconvert_exporter": "python",
   "pygments_lexer": "ipython3",
   "version": "3.6.2"
  }
 },
 "nbformat": 4,
 "nbformat_minor": 2
}
