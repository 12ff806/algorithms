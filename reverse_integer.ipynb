{
 "cells": [
  {
   "cell_type": "markdown",
   "metadata": {},
   "source": [
    "## 问题描述\n",
    "\n",
    "反转整型数\n",
    "\n",
    "注意: 假设输入的数为32位带符号的整型数, 所以当反转后的数字溢出了就返回0\n",
    "\n",
    "## 例子\n",
    "\n",
    "* 输入: x = 123, 返回: return 321\n",
    "* 输入: x = -123, 返回: return -321"
   ]
  },
  {
   "cell_type": "markdown",
   "metadata": {},
   "source": [
    "## 实现"
   ]
  },
  {
   "cell_type": "code",
   "execution_count": 1,
   "metadata": {},
   "outputs": [
    {
     "data": {
      "text/plain": [
       "-7654321"
      ]
     },
     "execution_count": 1,
     "metadata": {},
     "output_type": "execute_result"
    }
   ],
   "source": [
    "# 方法一\n",
    "def reverse(x):\n",
    "    sign = 1\n",
    "    if x < 0:\n",
    "        sign = -1\n",
    "        x = sign * x\n",
    "    r = 0\n",
    "    while True:\n",
    "        m = x // 10\n",
    "        n = x % 10\n",
    "        x = m\n",
    "        r = r * 10 + n\n",
    "        if m < 1:\n",
    "            if r >= 2**31:\n",
    "                return 0\n",
    "            return sign * r\n",
    "\n",
    "reverse(-1234567)"
   ]
  },
  {
   "cell_type": "code",
   "execution_count": 2,
   "metadata": {},
   "outputs": [
    {
     "data": {
      "text/plain": [
       "-987654321"
      ]
     },
     "execution_count": 2,
     "metadata": {},
     "output_type": "execute_result"
    }
   ],
   "source": [
    "# 方法二\n",
    "def reverse(x):\n",
    "    sign = 1\n",
    "    if x < 0:\n",
    "        sign = -1\n",
    "        x = sign * x\n",
    "    x = int(str(x)[::-1])\n",
    "    return sign * x * (x <= 2**31)\n",
    "\n",
    "reverse(-123456789)"
   ]
  }
 ],
 "metadata": {
  "kernelspec": {
   "display_name": "Python 3",
   "language": "python",
   "name": "python3"
  },
  "language_info": {
   "codemirror_mode": {
    "name": "ipython",
    "version": 3
   },
   "file_extension": ".py",
   "mimetype": "text/x-python",
   "name": "python",
   "nbconvert_exporter": "python",
   "pygments_lexer": "ipython3",
   "version": "3.6.2"
  }
 },
 "nbformat": 4,
 "nbformat_minor": 2
}
