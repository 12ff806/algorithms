{
 "cells": [
  {
   "cell_type": "markdown",
   "metadata": {},
   "source": [
    " ### 二维数组中的查找"
   ]
  },
  {
   "cell_type": "markdown",
   "metadata": {},
   "source": [
    "在一个二维数组中，每一行都按照从左到右递增的顺序排序，每一列都按照从上到下递增的顺序排序。请完成一个函数，输入这样的一个二维数组和一个整数，判断数组中是否含有该整数。"
   ]
  },
  {
   "cell_type": "markdown",
   "metadata": {},
   "source": [
    "### 实现"
   ]
  },
  {
   "cell_type": "markdown",
   "metadata": {},
   "source": [
    "#### 思路一\n",
    "\n",
    "例如数组：\n",
    "\n",
    "1   2   8    9\n",
    "2   4   9    12\n",
    "4   7   10   13\n",
    "6   8   11   15\n",
    "\n",
    "首先选取数组中右上角的数字。如果该数字等于要查找的数字，则查找过程结束；如果该数字大于要查找的数字，则剔除这个数字所在的列；如果该数字小于要查找的数字，则剔除这个数字所在的行。也就是说，如果要查找的数字不在数组的右上角，则每一次都在数组的查找范围中剔除一行或者一列，这样每一步都可以缩小查找的范围，直到找到要查找的数字，或者查找范围为空。"
   ]
  },
  {
   "cell_type": "code",
   "execution_count": 10,
   "metadata": {},
   "outputs": [
    {
     "name": "stdout",
     "output_type": "stream",
     "text": [
      "True\n"
     ]
    }
   ],
   "source": [
    "def find_num_from_sorted_matrix(matrix, number):\n",
    "    \"\"\" 在排好序的二维数组(matrix)中查找数字(number)\n",
    "    \"\"\"\n",
    "    # 异常检测\n",
    "    if not matrix or not number or not isinstance(matrix, list):\n",
    "        return False\n",
    "    \n",
    "    found = False\n",
    "    rows = len(matrix)\n",
    "    columns = len(matrix[0])\n",
    "    row = 0\n",
    "    column = columns - 1\n",
    "    while (row < rows and column >= 0):\n",
    "        if matrix[row][column] == number:\n",
    "            found = True\n",
    "            break\n",
    "        elif matrix[row][column] > number:\n",
    "            column -= 1\n",
    "        else:\n",
    "            row +=1\n",
    "    return found\n",
    "\n",
    "matrix = [[1, 2, 8, 9], [2, 4, 9, 12], [4, 7, 10, 13], [6, 8, 11, 15]]\n",
    "print(find_num_from_sorted_matrix(matrix, 7))"
   ]
  }
 ],
 "metadata": {
  "kernelspec": {
   "display_name": "Python 3",
   "language": "python",
   "name": "python3"
  },
  "language_info": {
   "codemirror_mode": {
    "name": "ipython",
    "version": 3
   },
   "file_extension": ".py",
   "mimetype": "text/x-python",
   "name": "python",
   "nbconvert_exporter": "python",
   "pygments_lexer": "ipython3",
   "version": "3.7.2"
  }
 },
 "nbformat": 4,
 "nbformat_minor": 2
}
