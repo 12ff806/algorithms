{
 "cells": [
  {
   "cell_type": "markdown",
   "metadata": {},
   "source": [
    "### 找出数组中重复的数字"
   ]
  },
  {
   "cell_type": "markdown",
   "metadata": {},
   "source": [
    "在一个长度为n的数组里的所有数字都在 0 到 n-1 的范围内。 数组中某些数字是重复的，但不知道有几个数字是重复的，也不知道每个数字重复几次。 请找出数组中任意一个重复的数字。例如，如果输入长度为 7 的数组 {2,3,1,0,2,5,3}，那么对应的输出是第一个重复的数字 2 或者 3"
   ]
  },
  {
   "cell_type": "markdown",
   "metadata": {},
   "source": [
    "### 实现"
   ]
  },
  {
   "cell_type": "markdown",
   "metadata": {},
   "source": [
    "思路一: 遍历数组中的每一个元素，将 此元素作为数组的索引 对应的值转换为其负数，再减 1（主要考虑 0 的情况）。如果后面遍历到 某一数组元素作为索引对应的值 已经转换为负数了，则说明此元素是重复的。下面的代码将所有重复的元素都返回了。时间复杂度为 O(n)，且没有用到额外的空间。"
   ]
  },
  {
   "cell_type": "code",
   "execution_count": 54,
   "metadata": {},
   "outputs": [
    {
     "name": "stdout",
     "output_type": "stream",
     "text": [
      "[2, 3]\n"
     ]
    }
   ],
   "source": [
    "def duplicate_v1(nums):\n",
    "    # 异常情况检测\n",
    "    if not nums:\n",
    "        return []\n",
    "    if isinstance(nums, list):\n",
    "        n_len = len(nums)\n",
    "        for n in nums:\n",
    "            if n < 0 or n > n_len - 1:\n",
    "                return []\n",
    "    else:\n",
    "        return []\n",
    "    \n",
    "    s = set()\n",
    "    for n in nums:\n",
    "        if n < 0:\n",
    "            if nums[-1 * (n+1)] < 0:\n",
    "                s.add(-1 * (n+1))\n",
    "            else:\n",
    "                nums[-1 * (n+1)] = -1 * (nums[-1 * (n+1)]) -1\n",
    "        if n >= 0:\n",
    "            if nums[n] < 0:\n",
    "                s.add(n)\n",
    "            else:\n",
    "                nums[n] = -1 * nums[n] - 1\n",
    "    return list(s)\n",
    "\n",
    "test = [2,3,1,0,2,5,3]\n",
    "print(duplicate_v1(test))"
   ]
  },
  {
   "cell_type": "markdown",
   "metadata": {},
   "source": [
    "思路二: 定义一个新的数组。依次遍历原数组中的所有元素，如果某个元素不在新数组中，则添加到新数组中。如果在元素在新数组中已经存在，说明此元素为重复元素。时间复杂度为 O(n)，空间复杂度也为 O(n)。"
   ]
  },
  {
   "cell_type": "code",
   "execution_count": 45,
   "metadata": {},
   "outputs": [
    {
     "name": "stdout",
     "output_type": "stream",
     "text": [
      "[2, 3]\n"
     ]
    }
   ],
   "source": [
    "def duplicate_v2(nums):\n",
    "    # 异常情况检测\n",
    "    if not nums:\n",
    "        return []\n",
    "    if isinstance(nums, list):\n",
    "        n_len = len(nums)\n",
    "        for n in nums:\n",
    "            if n < 0 or n > n_len - 1:\n",
    "                return []\n",
    "    else:\n",
    "        return []\n",
    "\n",
    "    # 用来保存重复的值\n",
    "    res = []\n",
    "    # 用来保存不重复的值\n",
    "    new = []\n",
    "    for n in nums:\n",
    "        if n not in new:\n",
    "            new.append(n)\n",
    "        else:\n",
    "            res.append(n)\n",
    "    return res\n",
    "\n",
    "test = [2,3,1,0,2,5,3]\n",
    "print(duplicate_v2(test))"
   ]
  },
  {
   "cell_type": "markdown",
   "metadata": {},
   "source": [
    "思路三: 用Python自带的collections库中的Counter类来判断重复的元素。"
   ]
  },
  {
   "cell_type": "code",
   "execution_count": 55,
   "metadata": {},
   "outputs": [
    {
     "name": "stdout",
     "output_type": "stream",
     "text": [
      "[2, 3]\n",
      "[2, 3]\n"
     ]
    }
   ],
   "source": [
    "from collections import Counter\n",
    "\n",
    "def duplicate_v3(nums):\n",
    "    # 异常情况检测\n",
    "    if not nums:\n",
    "        return []\n",
    "    if isinstance(nums, list):\n",
    "        n_len = len(nums)\n",
    "        for n in nums:\n",
    "            if n < 0 or n > n_len - 1:\n",
    "                return []\n",
    "    else:\n",
    "        return []\n",
    "    \n",
    "    res = []\n",
    "    for k, v in Counter(nums).items():\n",
    "        if v >= 2:\n",
    "            res.append(k)\n",
    "    return res\n",
    "\n",
    "def duplicate_v4(nums):\n",
    "    \"\"\" 跟v3版本一样用的 Counter\n",
    "    这里用的是列表生成器\n",
    "    \"\"\"\n",
    "    # 异常情况检测\n",
    "    if not nums:\n",
    "        return []\n",
    "    if isinstance(nums, list):\n",
    "        n_len = len(nums)\n",
    "        for n in nums:\n",
    "            if n < 0 or n > n_len - 1:\n",
    "                return []\n",
    "    else:\n",
    "        return []\n",
    "    \n",
    "    return [k for k, v in Counter(nums).items() if v >= 2]\n",
    "\n",
    "test = [2,3,1,0,2,5,3]\n",
    "print(duplicate_v3(test))\n",
    "print(duplicate_v4(test))"
   ]
  }
 ],
 "metadata": {
  "kernelspec": {
   "display_name": "Python 3",
   "language": "python",
   "name": "python3"
  },
  "language_info": {
   "codemirror_mode": {
    "name": "ipython",
    "version": 3
   },
   "file_extension": ".py",
   "mimetype": "text/x-python",
   "name": "python",
   "nbconvert_exporter": "python",
   "pygments_lexer": "ipython3",
   "version": "3.7.2"
  }
 },
 "nbformat": 4,
 "nbformat_minor": 2
}
