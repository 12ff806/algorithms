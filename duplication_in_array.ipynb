{
 "cells": [
  {
   "cell_type": "markdown",
   "metadata": {},
   "source": [
    "### 找出数组中重复的数字"
   ]
  },
  {
   "cell_type": "markdown",
   "metadata": {},
   "source": [
    "在一个长度为n的数组里的所有数字都在 0 到 n-1 的范围内。 数组中某些数字是重复的，但不知道有几个数字是重复的，也不知道每个数字重复几次。 请找出数组中任意一个重复的数字。例如，如果输入长度为 7 的数组 {2,3,1,0,2,5,3}，那么对应的输出是第一个重复的数字 2 或者 3"
   ]
  },
  {
   "cell_type": "markdown",
   "metadata": {},
   "source": [
    "### 实现"
   ]
  },
  {
   "cell_type": "markdown",
   "metadata": {},
   "source": [
    "#### 思路一\n",
    "\n",
    "遍历数组中的每一个元素，将 此元素作为数组的索引 对应的值转换为其负数，再减 1（主要考虑 0 的情况）。如果后面遍历到 某一数组元素作为索引对应的值 已经转换为负数了，则说明此元素是重复的。下面的代码将所有重复的元素都返回了。时间复杂度为 O(n)，空间复杂度为 O(1)。"
   ]
  },
  {
   "cell_type": "code",
   "execution_count": 1,
   "metadata": {},
   "outputs": [
    {
     "name": "stdout",
     "output_type": "stream",
     "text": [
      "[2, 3]\n"
     ]
    }
   ],
   "source": [
    "def duplicate_v1(nums):\n",
    "    # 异常情况检测\n",
    "    if not nums:\n",
    "        return []\n",
    "    if isinstance(nums, list):\n",
    "        n_len = len(nums)\n",
    "        for n in nums:\n",
    "            if n < 0 or n > n_len - 1:\n",
    "                return []\n",
    "    else:\n",
    "        return []\n",
    "    \n",
    "    s = set()\n",
    "    for n in nums:\n",
    "        if n < 0:\n",
    "            if nums[-1 * (n+1)] < 0:\n",
    "                s.add(-1 * (n+1))\n",
    "            else:\n",
    "                nums[-1 * (n+1)] = -1 * (nums[-1 * (n+1)]) -1\n",
    "        if n >= 0:\n",
    "            if nums[n] < 0:\n",
    "                s.add(n)\n",
    "            else:\n",
    "                nums[n] = -1 * nums[n] - 1\n",
    "    return list(s)\n",
    "\n",
    "test = [2,3,1,0,2,5,3]\n",
    "print(duplicate_v1(test))"
   ]
  },
  {
   "cell_type": "markdown",
   "metadata": {},
   "source": [
    "#### 思路二\n",
    "\n",
    "定义一个新的数组。依次遍历原数组中的所有元素，如果某个元素不在新数组中，则添加到新数组中。如果某元素在新数组中已经存在，说明此元素为重复元素。时间复杂度为 O(n)，空间复杂度为 O(n)。"
   ]
  },
  {
   "cell_type": "code",
   "execution_count": 2,
   "metadata": {},
   "outputs": [
    {
     "name": "stdout",
     "output_type": "stream",
     "text": [
      "[2, 3]\n"
     ]
    }
   ],
   "source": [
    "def duplicate_v2(nums):\n",
    "    # 异常情况检测\n",
    "    if not nums:\n",
    "        return []\n",
    "    if isinstance(nums, list):\n",
    "        n_len = len(nums)\n",
    "        for n in nums:\n",
    "            if n < 0 or n > n_len - 1:\n",
    "                return []\n",
    "    else:\n",
    "        return []\n",
    "\n",
    "    # 用来保存重复的值\n",
    "    res = []\n",
    "    # 用来保存不重复的值\n",
    "    new = []\n",
    "    for n in nums:\n",
    "        if n not in new:\n",
    "            new.append(n)\n",
    "        else:\n",
    "            res.append(n)\n",
    "    return res\n",
    "\n",
    "test = [2,3,1,0,2,5,3]\n",
    "print(duplicate_v2(test))"
   ]
  },
  {
   "cell_type": "markdown",
   "metadata": {},
   "source": [
    "#### 思路三\n",
    "\n",
    "用Python自带的collections库中的Counter类来判断重复的元素。"
   ]
  },
  {
   "cell_type": "code",
   "execution_count": 3,
   "metadata": {
    "scrolled": true
   },
   "outputs": [
    {
     "name": "stdout",
     "output_type": "stream",
     "text": [
      "[2, 3]\n",
      "[2, 3]\n"
     ]
    }
   ],
   "source": [
    "from collections import Counter\n",
    "\n",
    "def duplicate_v3(nums):\n",
    "    # 异常情况检测\n",
    "    if not nums:\n",
    "        return []\n",
    "    if isinstance(nums, list):\n",
    "        n_len = len(nums)\n",
    "        for n in nums:\n",
    "            if n < 0 or n > n_len - 1:\n",
    "                return []\n",
    "    else:\n",
    "        return []\n",
    "    \n",
    "    res = []\n",
    "    for k, v in Counter(nums).items():\n",
    "        if v >= 2:\n",
    "            res.append(k)\n",
    "    return res\n",
    "\n",
    "def duplicate_v4(nums):\n",
    "    \"\"\" 跟v3版本一样用的 Counter\n",
    "    这里用的是列表生成器\n",
    "    \"\"\"\n",
    "    # 异常情况检测\n",
    "    if not nums:\n",
    "        return []\n",
    "    if isinstance(nums, list):\n",
    "        n_len = len(nums)\n",
    "        for n in nums:\n",
    "            if n < 0 or n > n_len - 1:\n",
    "                return []\n",
    "    else:\n",
    "        return []\n",
    "    \n",
    "    return [k for k, v in Counter(nums).items() if v >= 2]\n",
    "\n",
    "test = [2,3,1,0,2,5,3]\n",
    "print(duplicate_v3(test))\n",
    "print(duplicate_v4(test))"
   ]
  },
  {
   "cell_type": "markdown",
   "metadata": {},
   "source": [
    "#### 思路四\n",
    "\n",
    "先将数组排序，然后依次遍历排好序的数组中的每一个元素，判断前后两个元素是否相同。给数组排序的时间复杂度为 O(nlogn)。"
   ]
  },
  {
   "cell_type": "markdown",
   "metadata": {},
   "source": [
    "#### 思路五\n",
    "\n",
    "这个算法是剑指offer上给出的。数组中的数字都在 0~n-1 的范围内。如果这个数组中没有重复的数字，那么当数组排序之后数字 i 将出现在下标为 i 的位置。由于数组中有重复的数字，有些位置可能存在多个数字，同时有些位置可能没有数字。现在让我们重排这个数组。从头到尾依次扫描这个数组中的每个数字。当扫描到下标为 i 的数字时，首先比较这个数字（用 m 表示）是不是等于 i。如果是，则接着扫描下一个数字；如果不是，则再拿它和第 m 个数字进行比较。如果它和第 m 个数字相等，就找到了一个重复的数字（该数字在下标为 i 和 m 的位置都出现了）；如果它和第 m 个数字不相等，就把第 i 个数字和第 m 个数字交换，把 m 放到属于它的位置。接下来再重复这个比较和交换的过程，直到我们发现一个重复的数字。因为将每个数组放到相应位置最多需要交换两次，所以改算法时间复杂度为 O(n)，空间复杂度为 O(1)。"
   ]
  },
  {
   "cell_type": "code",
   "execution_count": 4,
   "metadata": {},
   "outputs": [
    {
     "name": "stdout",
     "output_type": "stream",
     "text": [
      "2\n"
     ]
    }
   ],
   "source": [
    "def duplicate_v5(nums):\n",
    "    \"\"\" 这里只返回第一个被找到的重复数字\n",
    "    而不是返回所有的重复数字\n",
    "    \"\"\"\n",
    "    # 异常情况检测\n",
    "    if not nums:\n",
    "        return None\n",
    "    if isinstance(nums, list):\n",
    "        n_len = len(nums)\n",
    "        for n in nums:\n",
    "            if n < 0 or n > n_len - 1:\n",
    "                return None\n",
    "    else:\n",
    "        return None\n",
    "    \n",
    "    for i in range(len(nums)):\n",
    "        while (nums[i] != i):\n",
    "            if nums[i] == nums[nums[i]]:\n",
    "                return nums[i]\n",
    "            else:\n",
    "                temp = nums[i]\n",
    "                nums[i], nums[temp] = nums[temp], nums[i]\n",
    "    return None\n",
    "\n",
    "test = [2,3,1,0,2,5,3]\n",
    "print(duplicate_v5(test))"
   ]
  }
 ],
 "metadata": {
  "kernelspec": {
   "display_name": "Python 3",
   "language": "python",
   "name": "python3"
  },
  "language_info": {
   "codemirror_mode": {
    "name": "ipython",
    "version": 3
   },
   "file_extension": ".py",
   "mimetype": "text/x-python",
   "name": "python",
   "nbconvert_exporter": "python",
   "pygments_lexer": "ipython3",
   "version": "3.7.2"
  }
 },
 "nbformat": 4,
 "nbformat_minor": 2
}
