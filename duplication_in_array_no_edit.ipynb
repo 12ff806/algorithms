{
 "cells": [
  {
   "cell_type": "markdown",
   "metadata": {},
   "source": [
    "### 不修改数组找出重复的数字"
   ]
  },
  {
   "cell_type": "markdown",
   "metadata": {},
   "source": [
    "在一个长度为 n+1 的数组里的所有数字都在 1 到 n 的范围内，所以数组中至少有一个数字是重复的。请找出数组中任意一个重复的数字，但不能修改输入的数组。例如，如果输入长度为8的数组{2, 3, 5, 4, 3, 2, 6, 7}，那么对应的输出是重复的数字2或者3。"
   ]
  },
  {
   "cell_type": "markdown",
   "metadata": {},
   "source": [
    "### 实现"
   ]
  },
  {
   "cell_type": "markdown",
   "metadata": {},
   "source": [
    "#### 思路一\n",
    "\n",
    "创建一个长度为 n+1 的辅助数组，然后逐一把原数组的每个数字复制到辅助数组。如果原数组中被复制的数字是 m，则把它复制到辅助数组中下标为 m 的位置。这样就很容易就能发现哪个数字是重复的。该方案时间复杂度为 O(n)，空间复杂度为 O(n)。"
   ]
  },
  {
   "cell_type": "code",
   "execution_count": 8,
   "metadata": {},
   "outputs": [
    {
     "name": "stdout",
     "output_type": "stream",
     "text": [
      "[0, 0, 1, 1, 1, 1, 0, 0]\n",
      "3\n"
     ]
    }
   ],
   "source": [
    "def find_duplication(nums):\n",
    "    \"\"\" 查找数组中重复的数字\n",
    "    \"\"\"\n",
    "    # 异常处理\n",
    "    if not nums:\n",
    "        return []\n",
    "    if isinstance(nums, list):\n",
    "        n_len = len(nums)\n",
    "        for n in nums:\n",
    "            if n < 1 or n > n_len-1:\n",
    "                return []\n",
    "    \n",
    "    new_list = [0] * n_len\n",
    "    for n in nums:\n",
    "        if new_list[n] == 0:\n",
    "            new_list[n] = 1\n",
    "        else:\n",
    "            print(new_list)\n",
    "            return n\n",
    "\n",
    "nums = [2, 3, 5, 4, 3, 2, 6, 7]\n",
    "print(find_duplication(nums))"
   ]
  },
  {
   "cell_type": "markdown",
   "metadata": {},
   "source": [
    "#### 思路二\n",
    "\n",
    "把 1~n 的数字从中间的数字 m 分为两部分，前面一半为 1~m，后面一半为 m+1~n，如果 1~m 的数字数目超过 m，那么这一半的区间里一定包含重复的数字；否则，另一半 m+1~n 的区间里一定包含重复的数字。继续把包含重复的数字区间一分为二，直到找到一个重复的数字。该算法时间复杂度为 O(nlog(n))，空间复杂度为 O(1)。"
   ]
  },
  {
   "cell_type": "code",
   "execution_count": 9,
   "metadata": {},
   "outputs": [
    {
     "name": "stdout",
     "output_type": "stream",
     "text": [
      "3\n"
     ]
    }
   ],
   "source": [
    "def find_duplication_v2(nums):\n",
    "    \"\"\" 查找数组中的重复数字\n",
    "    \"\"\"\n",
    "    # 异常处理\n",
    "    if not nums:\n",
    "        return None\n",
    "    if isinstance(nums, list):\n",
    "        n_len = len(nums)\n",
    "        for n in nums:\n",
    "            if n < 1 or n > n_len-1:\n",
    "                return None\n",
    "            \n",
    "    start = 1\n",
    "    end = len(nums) - 1\n",
    "    while (end >= start):\n",
    "        middle = (start + end) // 2\n",
    "        count = count_range(nums, start, middle)\n",
    "        if end == start:\n",
    "            if count > 1:\n",
    "                return start\n",
    "            else:\n",
    "                break\n",
    "        if count > (middle - start + 1):\n",
    "            end = middle\n",
    "        else:\n",
    "            start = middle + 1\n",
    "    return None\n",
    "            \n",
    "def count_range(nums, start, end):\n",
    "    \"\"\" 计算数组 nums 在区间 start~end 里的数字个数\n",
    "    \"\"\"\n",
    "    if not nums:\n",
    "        return 0\n",
    "    \n",
    "    count = 0\n",
    "    for n in nums:\n",
    "        if n >= start and n <= end:\n",
    "            count += 1\n",
    "    return count\n",
    "\n",
    "nums = [2, 3, 5, 4, 3, 2, 6, 7]\n",
    "print(find_duplication_v2(nums))"
   ]
  }
 ],
 "metadata": {
  "kernelspec": {
   "display_name": "Python 3",
   "language": "python",
   "name": "python3"
  },
  "language_info": {
   "codemirror_mode": {
    "name": "ipython",
    "version": 3
   },
   "file_extension": ".py",
   "mimetype": "text/x-python",
   "name": "python",
   "nbconvert_exporter": "python",
   "pygments_lexer": "ipython3",
   "version": "3.7.2"
  }
 },
 "nbformat": 4,
 "nbformat_minor": 2
}
