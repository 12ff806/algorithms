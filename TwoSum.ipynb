{
 "cells": [
  {
   "cell_type": "markdown",
   "metadata": {},
   "source": [
    "## 问题描述\n",
    "\n",
    "给定一个整数数组和一个目标整数, 在整数数组中查找出两个值, 使得这两个整数相加等于目标整数, 并返回这两个整数在数组中的索引. 可以假设每个输入都只有一个解决方案，不能使用相同的数组元素两次.\n",
    "\n",
    "\n",
    "## 例子\n",
    "\n",
    "给定数组 nums = [2, 7, 11, 15] 和目标整数 target = 9\n",
    "因为 nums[0] + nums[1] = 2 + 7 = 9\n",
    "所以 return [0, 1]\n",
    "\n",
    "## 实现代码"
   ]
  },
  {
   "cell_type": "code",
   "execution_count": 1,
   "metadata": {},
   "outputs": [
    {
     "name": "stdout",
     "output_type": "stream",
     "text": [
      "[0, 1]\n",
      "[1, 2]\n"
     ]
    }
   ],
   "source": [
    "# 方法一\n",
    "def two_sum(nums, target):\n",
    "    for i in range(len(nums)):\n",
    "        for j in range(i+1, len(nums)):\n",
    "            if nums[i] + nums[j] == target:\n",
    "                return [i, j]\n",
    "    raise ValueError(\"No two sum solution\")\n",
    "\n",
    "print(two_sum([3,3], 6))\n",
    "print(two_sum([3, 2, 4], 6))"
   ]
  },
  {
   "cell_type": "code",
   "execution_count": 2,
   "metadata": {},
   "outputs": [
    {
     "name": "stdout",
     "output_type": "stream",
     "text": [
      "[0, 1]\n",
      "[1, 2]\n"
     ]
    }
   ],
   "source": [
    "# 方法二\n",
    "def two_sum(nums, target):\n",
    "    buff_dict = {}\n",
    "    for i in range(len(nums)):\n",
    "        diff = target - nums[i]\n",
    "        if diff in buff_dict:\n",
    "            return [buff_dict[diff], i]\n",
    "        buff_dict[nums[i]] = i\n",
    "    raise ValueError(\"No two sum solution\")\n",
    "\n",
    "print(two_sum([3,3], 6))\n",
    "print(two_sum([3, 2, 4], 6))"
   ]
  },
  {
   "cell_type": "markdown",
   "metadata": {},
   "source": [
    "## 代码复杂度分析\n"
   ]
  }
 ],
 "metadata": {
  "kernelspec": {
   "display_name": "Python 3",
   "language": "python",
   "name": "python3"
  },
  "language_info": {
   "codemirror_mode": {
    "name": "ipython",
    "version": 3
   },
   "file_extension": ".py",
   "mimetype": "text/x-python",
   "name": "python",
   "nbconvert_exporter": "python",
   "pygments_lexer": "ipython3",
   "version": "3.6.2"
  }
 },
 "nbformat": 4,
 "nbformat_minor": 2
}
